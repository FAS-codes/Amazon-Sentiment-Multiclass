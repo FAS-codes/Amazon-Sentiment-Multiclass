{
  "cells": [
    {
      "cell_type": "code",
      "execution_count": 2,
      "id": "d5db1a20",
      "metadata": {},
      "outputs": [],
      "source": [
        "\n",
        "import bz2\n",
        "import re\n",
        "import pandas as pd\n",
        "import numpy as np\n",
        "from sklearn.model_selection import train_test_split\n",
        "from sklearn.feature_extraction.text import TfidfVectorizer\n",
        "from sklearn.linear_model import LogisticRegression\n",
        "from sklearn.metrics import classification_report, confusion_matrix, accuracy_score\n",
        "import matplotlib.pyplot as plt\n",
        "import seaborn as sns\n",
        "from tqdm import tqdm\n",
        "tqdm.pandas()\n",
        "import warnings\n",
        "warnings.filterwarnings('ignore')\n"
      ]
    },
    {
      "cell_type": "markdown",
      "id": "b0f877c0",
      "metadata": {},
      "source": [
        "Robust loader "
      ]
    },
    {
      "cell_type": "code",
      "execution_count": null,
      "id": "b91e928d",
      "metadata": {},
      "outputs": [],
      "source": [
        "\n",
        "def load_fasttext_bz2(path, encoding='utf-8', errors='replace', max_lines=None, show_progress=True):\n",
        "    \"\"\"\n",
        "    Load a FastText-style .bz2 file where each line is like:\n",
        "       __label__5 This is the review text ...\n",
        "    Returns a DataFrame with columns ['label', 'text'].\n",
        "    \"\"\"\n",
        "    labels = []\n",
        "    texts = []\n",
        "    \n",
        "    with bz2.open(path, mode='rt', encoding=encoding, errors=errors) as f:\n",
        "        iterator = f\n",
        "        if show_progress:\n",
        "      \n",
        "            try:\n",
        "                total = None\n",
        "                from os import path as os_path\n",
        "                if os_path.exists(path):\n",
        "                    total = None\n",
        "            except Exception:\n",
        "                total = None\n",
        "            iterator = tqdm(f, total=total)\n",
        "        for i, line in enumerate(iterator):\n",
        "            if max_lines is not None and i >= max_lines:\n",
        "                break\n",
        "            line = line.strip()\n",
        "            if not line:\n",
        "                continue\n",
        "            \n",
        "            \n",
        "            parts = line.split(' ', 1)\n",
        "            if len(parts) == 1:\n",
        "                continue\n",
        "            label_token, text = parts[0], parts[1]\n",
        "            m = re.search(r'(\\d+)', label_token)\n",
        "            if m:\n",
        "                label = int(m.group(1))\n",
        "            else:\n",
        "                \n",
        "                subparts = line.split('\\t', 1)\n",
        "                if len(subparts) > 1:\n",
        "                    label_token = subparts[0]\n",
        "                    text = subparts[1]\n",
        "                    m = re.search(r'(\\d+)', label_token)\n",
        "                    if m:\n",
        "                        label = int(m.group(1))\n",
        "                    else:\n",
        "                        continue\n",
        "                else:\n",
        "                    continue\n",
        "            labels.append(label)\n",
        "            texts.append(text)\n",
        "    df = pd.DataFrame({'label': labels, 'text': texts})\n",
        "    return df\n"
      ]
    },
    {
      "cell_type": "markdown",
      "id": "200ff376",
      "metadata": {},
      "source": [
        "Paths (update if needed)"
      ]
    },
    {
      "cell_type": "code",
      "execution_count": null,
      "id": "a893e9a3",
      "metadata": {},
      "outputs": [
        {
          "name": "stdout",
          "output_type": "stream",
          "text": [
            "Using train path: C:/Users/FAS/Downloads/archive/train.ft.txt.bz2\n"
          ]
        }
      ],
      "source": [
        "\n",
        "train_path_windows = r\"C:/Users/FAS/Downloads/archive/train.ft.txt.bz2\"\n",
        "test_path_windows  = r\"C:/Users/FAS/Downloads/archive/test.ft.txt.bz2\"\n",
        "\n",
        "train_path_mnt = '/mnt/data/train.ft.txt.bz2'\n",
        "test_path_mnt  = '/mnt/data/test.ft.txt.bz2'\n",
        "\n",
        "train_path = train_path_windows\n",
        "test_path  = test_path_windows\n",
        "print('Using train path:', train_path)\n"
      ]
    },
    {
      "cell_type": "code",
      "execution_count": null,
      "id": "37128d35",
      "metadata": {},
      "outputs": [
        {
          "name": "stderr",
          "output_type": "stream",
          "text": [
            "3600000it [02:27, 24398.04it/s]\n",
            "400000it [00:18, 22011.32it/s]\n"
          ]
        },
        {
          "name": "stdout",
          "output_type": "stream",
          "text": [
            "Train shape: (3600000, 2)\n",
            "Test  shape: (400000, 2)\n"
          ]
        },
        {
          "data": {
            "text/html": [
              "<div>\n",
              "<style scoped>\n",
              "    .dataframe tbody tr th:only-of-type {\n",
              "        vertical-align: middle;\n",
              "    }\n",
              "\n",
              "    .dataframe tbody tr th {\n",
              "        vertical-align: top;\n",
              "    }\n",
              "\n",
              "    .dataframe thead th {\n",
              "        text-align: right;\n",
              "    }\n",
              "</style>\n",
              "<table border=\"1\" class=\"dataframe\">\n",
              "  <thead>\n",
              "    <tr style=\"text-align: right;\">\n",
              "      <th></th>\n",
              "      <th>label</th>\n",
              "      <th>text</th>\n",
              "    </tr>\n",
              "  </thead>\n",
              "  <tbody>\n",
              "    <tr>\n",
              "      <th>0</th>\n",
              "      <td>2</td>\n",
              "      <td>Stuning even for the non-gamer: This sound tra...</td>\n",
              "    </tr>\n",
              "    <tr>\n",
              "      <th>1</th>\n",
              "      <td>2</td>\n",
              "      <td>The best soundtrack ever to anything.: I'm rea...</td>\n",
              "    </tr>\n",
              "    <tr>\n",
              "      <th>2</th>\n",
              "      <td>2</td>\n",
              "      <td>Amazing!: This soundtrack is my favorite music...</td>\n",
              "    </tr>\n",
              "    <tr>\n",
              "      <th>3</th>\n",
              "      <td>2</td>\n",
              "      <td>Excellent Soundtrack: I truly like this soundt...</td>\n",
              "    </tr>\n",
              "    <tr>\n",
              "      <th>4</th>\n",
              "      <td>2</td>\n",
              "      <td>Remember, Pull Your Jaw Off The Floor After He...</td>\n",
              "    </tr>\n",
              "  </tbody>\n",
              "</table>\n",
              "</div>"
            ],
            "text/plain": [
              "   label                                               text\n",
              "0      2  Stuning even for the non-gamer: This sound tra...\n",
              "1      2  The best soundtrack ever to anything.: I'm rea...\n",
              "2      2  Amazing!: This soundtrack is my favorite music...\n",
              "3      2  Excellent Soundtrack: I truly like this soundt...\n",
              "4      2  Remember, Pull Your Jaw Off The Floor After He..."
            ]
          },
          "metadata": {},
          "output_type": "display_data"
        }
      ],
      "source": [
        "\n",
        "MAX_LINES = None \n",
        "train_df = load_fasttext_bz2(train_path, encoding='utf-8', errors='replace', max_lines=MAX_LINES)\n",
        "test_df  = load_fasttext_bz2(test_path,  encoding='utf-8', errors='replace', max_lines=MAX_LINES)\n",
        "print('Train shape:', train_df.shape)\n",
        "print('Test  shape:', test_df.shape)\n",
        "display(train_df.head())\n"
      ]
    },
    {
      "cell_type": "markdown",
      "id": "3a1e0b5b",
      "metadata": {},
      "source": [
        "Inspect and normalize labels to 0..4 (1..5 -> 0..4)"
      ]
    },
    {
      "cell_type": "code",
      "execution_count": null,
      "id": "6096fc2d",
      "metadata": {},
      "outputs": [
        {
          "name": "stdout",
          "output_type": "stream",
          "text": [
            "Unique labels (train): [np.int64(1), np.int64(2)]\n",
            "Label distribution (train):\n",
            "label\n",
            "0    1800000\n",
            "1    1800000\n",
            "Name: count, dtype: int64\n"
          ]
        }
      ],
      "source": [
        "\n",
        "print('Unique labels (train):', sorted(train_df['label'].unique())[:20])\n",
        "train_df['label'] = pd.to_numeric(train_df['label'], errors='coerce').astype('Int64')\n",
        "test_df['label']  = pd.to_numeric(test_df['label'], errors='coerce').astype('Int64')\n",
        "train_df.dropna(subset=['label'], inplace=True)\n",
        "test_df.dropna(subset=['label'], inplace=True)\n",
        "train_df['label'] = train_df['label'].astype(int)\n",
        "test_df['label']  = test_df['label'].astype(int)\n",
        "if train_df['label'].min() >= 1:\n",
        "    train_df['label'] = train_df['label'] - 1\n",
        "    test_df['label']  = test_df['label'] - 1\n",
        "print('Label distribution (train):')\n",
        "print(train_df['label'].value_counts().sort_index())\n"
      ]
    },
    {
      "cell_type": "markdown",
      "id": "396066d4",
      "metadata": {},
      "source": [
        "Text cleaning"
      ]
    },
    {
      "cell_type": "code",
      "execution_count": 8,
      "id": "626eaff9",
      "metadata": {},
      "outputs": [
        {
          "name": "stderr",
          "output_type": "stream",
          "text": [
            "[nltk_data] Downloading package stopwords to\n",
            "[nltk_data]     C:\\Users\\FAS\\AppData\\Roaming\\nltk_data...\n",
            "[nltk_data]   Unzipping corpora\\stopwords.zip.\n",
            "100%|██████████| 3600000/3600000 [04:51<00:00, 12334.11it/s]\n",
            "100%|██████████| 400000/400000 [00:29<00:00, 13658.06it/s]\n"
          ]
        },
        {
          "data": {
            "text/html": [
              "<div>\n",
              "<style scoped>\n",
              "    .dataframe tbody tr th:only-of-type {\n",
              "        vertical-align: middle;\n",
              "    }\n",
              "\n",
              "    .dataframe tbody tr th {\n",
              "        vertical-align: top;\n",
              "    }\n",
              "\n",
              "    .dataframe thead th {\n",
              "        text-align: right;\n",
              "    }\n",
              "</style>\n",
              "<table border=\"1\" class=\"dataframe\">\n",
              "  <thead>\n",
              "    <tr style=\"text-align: right;\">\n",
              "      <th></th>\n",
              "      <th>label</th>\n",
              "      <th>clean_text</th>\n",
              "    </tr>\n",
              "  </thead>\n",
              "  <tbody>\n",
              "    <tr>\n",
              "      <th>0</th>\n",
              "      <td>1</td>\n",
              "      <td>stuning even non gamer sound track beautiful p...</td>\n",
              "    </tr>\n",
              "    <tr>\n",
              "      <th>1</th>\n",
              "      <td>1</td>\n",
              "      <td>best soundtrack ever anything reading lot revi...</td>\n",
              "    </tr>\n",
              "    <tr>\n",
              "      <th>2</th>\n",
              "      <td>1</td>\n",
              "      <td>amazing soundtrack favorite music time hands i...</td>\n",
              "    </tr>\n",
              "    <tr>\n",
              "      <th>3</th>\n",
              "      <td>1</td>\n",
              "      <td>excellent soundtrack truly like soundtrack enj...</td>\n",
              "    </tr>\n",
              "    <tr>\n",
              "      <th>4</th>\n",
              "      <td>1</td>\n",
              "      <td>remember pull jaw floor hearing played game kn...</td>\n",
              "    </tr>\n",
              "  </tbody>\n",
              "</table>\n",
              "</div>"
            ],
            "text/plain": [
              "   label                                         clean_text\n",
              "0      1  stuning even non gamer sound track beautiful p...\n",
              "1      1  best soundtrack ever anything reading lot revi...\n",
              "2      1  amazing soundtrack favorite music time hands i...\n",
              "3      1  excellent soundtrack truly like soundtrack enj...\n",
              "4      1  remember pull jaw floor hearing played game kn..."
            ]
          },
          "metadata": {},
          "output_type": "display_data"
        }
      ],
      "source": [
        "\n",
        "import nltk\n",
        "nltk.download('stopwords')\n",
        "from nltk.corpus import stopwords\n",
        "STOPWORDS = set(stopwords.words('english'))\n",
        "def clean_text(text, remove_stopwords=True):\n",
        "    text = re.sub(r'<.*?>', ' ', text)\n",
        "    text = re.sub(r'http\\S+|www\\S+', ' ', text)\n",
        "    text = re.sub(r'[^A-Za-z0-9\\s]', ' ', text)\n",
        "    text = text.lower()\n",
        "    text = re.sub(r'\\s+', ' ', text).strip()\n",
        "    if remove_stopwords:\n",
        "        toks = [w for w in text.split() if w not in STOPWORDS]\n",
        "        return ' '.join(toks)\n",
        "    return text\n",
        "\n",
        "\n",
        "from tqdm import tqdm\n",
        "tqdm.pandas()\n",
        "train_df['clean_text'] = train_df['text'].progress_apply(clean_text)\n",
        "test_df['clean_text']  = test_df['text'].progress_apply(clean_text)\n",
        "display(train_df[['label','clean_text']].head())\n"
      ]
    },
    {
      "cell_type": "markdown",
      "id": "e67c6d5e",
      "metadata": {},
      "source": [
        "Sample per class to speed up training"
      ]
    },
    {
      "cell_type": "code",
      "execution_count": 9,
      "id": "3831fffa",
      "metadata": {},
      "outputs": [
        {
          "name": "stdout",
          "output_type": "stream",
          "text": [
            "Training size used: 40000\n"
          ]
        }
      ],
      "source": [
        "\n",
        "SAMPLE_PER_CLASS = 20000  \n",
        "if SAMPLE_PER_CLASS is not None:\n",
        "    sampled_frames = []\n",
        "    for lbl in sorted(train_df['label'].unique()):\n",
        "        subset = train_df[train_df['label']==lbl]\n",
        "        sampled = subset.sample(min(len(subset), SAMPLE_PER_CLASS), random_state=42)\n",
        "        sampled_frames.append(sampled)\n",
        "    train_sample = pd.concat(sampled_frames).sample(frac=1, random_state=42).reset_index(drop=True)\n",
        "else:\n",
        "    train_sample = train_df\n",
        "print('Training size used:', len(train_sample))\n"
      ]
    },
    {
      "cell_type": "markdown",
      "id": "fdee6402",
      "metadata": {},
      "source": [
        "Train/validation split and TF-IDF vectorization"
      ]
    },
    {
      "cell_type": "code",
      "execution_count": 10,
      "id": "5b3379d7",
      "metadata": {},
      "outputs": [
        {
          "name": "stdout",
          "output_type": "stream",
          "text": [
            "Feature shape: (32000, 20000)\n"
          ]
        }
      ],
      "source": [
        "\n",
        "X = train_sample['clean_text'].values\n",
        "y = train_sample['label'].values\n",
        "X_train, X_val, y_train, y_val = train_test_split(X, y, test_size=0.2, stratify=y, random_state=42)\n",
        "vectorizer = TfidfVectorizer(max_features=20000, ngram_range=(1,2))\n",
        "X_train_vec = vectorizer.fit_transform(X_train)\n",
        "X_val_vec   = vectorizer.transform(X_val)\n",
        "print('Feature shape:', X_train_vec.shape)\n"
      ]
    },
    {
      "cell_type": "markdown",
      "id": "a9f23455",
      "metadata": {},
      "source": [
        "Train multinomial Logistic Regression"
      ]
    },
    {
      "cell_type": "code",
      "execution_count": 11,
      "id": "cca8c5f5",
      "metadata": {},
      "outputs": [
        {
          "name": "stdout",
          "output_type": "stream",
          "text": [
            "Validation accuracy: 0.878\n",
            "\n",
            "Classification report:\n",
            "\n",
            "              precision    recall  f1-score   support\n",
            "\n",
            "           0     0.8818    0.8730    0.8774      4000\n",
            "           1     0.8743    0.8830    0.8786      4000\n",
            "\n",
            "    accuracy                         0.8780      8000\n",
            "   macro avg     0.8780    0.8780    0.8780      8000\n",
            "weighted avg     0.8780    0.8780    0.8780      8000\n",
            "\n"
          ]
        }
      ],
      "source": [
        "\n",
        "model = LogisticRegression(multi_class='multinomial', solver='saga', max_iter=1000, n_jobs=-1)\n",
        "model.fit(X_train_vec, y_train)\n",
        "y_pred = model.predict(X_val_vec)\n",
        "print('Validation accuracy:', accuracy_score(y_val, y_pred))\n",
        "print('\\nClassification report:\\n')\n",
        "print(classification_report(y_val, y_pred, digits=4))\n"
      ]
    },
    {
      "cell_type": "markdown",
      "id": "fbb722cc",
      "metadata": {},
      "source": [
        "Confusion matrix"
      ]
    },
    {
      "cell_type": "code",
      "execution_count": 12,
      "id": "6e74e233",
      "metadata": {},
      "outputs": [
        {
          "data": {
            "image/png": "[encoded data removed]",
            "text/plain": [
              "<Figure size 800x600 with 2 Axes>"
            ]
          },
          "metadata": {},
          "output_type": "display_data"
        }
      ],
      "source": [
        "\n",
        "cm = confusion_matrix(y_val, y_pred)\n",
        "plt.figure(figsize=(8,6))\n",
        "sns.heatmap(cm, annot=True, fmt='d', cmap='Blues',\n",
        "            xticklabels=[f\"{i+1}★\" for i in range(cm.shape[0])],\n",
        "            yticklabels=[f\"{i+1}★\" for i in range(cm.shape[0])])\n",
        "plt.xlabel('Predicted')\n",
        "plt.ylabel('True')\n",
        "plt.title('Confusion Matrix')\n",
        "plt.show()\n"
      ]
    }
  ],
  "metadata": {
    "kernelspec": {
      "display_name": "Python 3",
      "language": "python",
      "name": "python3"
    },
    "language_info": {
      "codemirror_mode": {
        "name": "ipython",
        "version": 3
      },
      "file_extension": ".py",
      "mimetype": "text/x-python",
      "name": "python",
      "nbconvert_exporter": "python",
      "pygments_lexer": "ipython3",
      "version": "3.11.9"
    }
  },
  "nbformat": 4,
  "nbformat_minor": 5
}
